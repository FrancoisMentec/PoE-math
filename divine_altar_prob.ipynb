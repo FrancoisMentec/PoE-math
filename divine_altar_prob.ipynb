{
 "cells": [
  {
   "cell_type": "markdown",
   "metadata": {},
   "source": [
    "# Chance to get divine orb drop on eldritch minions\n",
    "This document is related to the eater of worlds altar mod that give % chance to drop a divine to eldritch mobs.\n",
    "\n",
    "I just wanted to have more reliable numbers than what Grimro did on top of his head in his [youtube video](https://www.youtube.com/watch?v=Ehr2twEyNkQ) on the topic.\n",
    "\n",
    "If I made any mistake in this computation or if you wish to add stuff you can either open an issue (on GitHub) or make the change yourself and submit a merge request to explain what you did."
   ]
  },
  {
   "cell_type": "code",
   "execution_count": 3,
   "metadata": {},
   "outputs": [],
   "source": [
    "def prob(value):\n",
    "    return str(value) + ' ≈ ' + str(round(value * 10000) / 100) + '% ≈ 1 / ' + str(round(1 / value))"
   ]
  },
  {
   "cell_type": "code",
   "execution_count": 8,
   "metadata": {},
   "outputs": [
    {
     "name": "stdout",
     "output_type": "stream",
     "text": [
      "The probability to get a minion choice from an altar is: 0.5555555555555555 ≈ 55.56% ≈ 1 / 2\n",
      "The probability to get a divine minion choice from an altar is: 0.0004444444444444444 ≈ 0.04% ≈ 1 / 2250\n",
      "The probability to get a divine minion choice from a map is: 0.0013327408285322973 ≈ 0.13% ≈ 1 / 750\n"
     ]
    }
   ],
   "source": [
    "probability_to_get_divine_from_minion_choice = 0.0008 # 0.08%\n",
    "number_of_choice_per_altar = 2 # top choice, bottom choice\n",
    "types_of_choice = 3 # Boss, Minions, Player\n",
    "number_of_altar_per_map = 3 # hypothetical (from Grimro video)\n",
    "divine_per_choice = 6 # hypothetical (from Grimro video)\n",
    "divine_price_in_chaos = 165 # Sanctum League 14/12/2022 from https://poe.ninja/challenge/currency\n",
    "\n",
    "probability_for_a_choice_to_not_be_a_minion_choice = 1 - 1 / types_of_choice\n",
    "probability_to_not_get_a_minion_choice_from_an_altar = probability_for_a_choice_to_not_be_a_minion_choice ** number_of_choice_per_altar\n",
    "probability_to_get_minion_choice_from_an_altar = 1 - probability_to_not_get_a_minion_choice_from_an_altar\n",
    "print('The probability to get a minion choice from an altar is:', prob(probability_to_get_minion_choice_from_an_altar))\n",
    "\n",
    "probability_to_get_divine_from_minion_choice_from_an_altar = probability_to_get_minion_choice_from_an_altar * probability_to_get_divine_from_minion_choice\n",
    "print('The probability to get a divine minion choice from an altar is:', prob(probability_to_get_divine_from_minion_choice_from_an_altar))\n",
    "\n",
    "probability_to_not_get_divine_from_minion_choice_from_an_altar = 1 - probability_to_get_divine_from_minion_choice_from_an_altar\n",
    "probability_to_not_get_divine_minion_choice_from_a_map = probability_to_not_get_divine_from_minion_choice_from_an_altar ** number_of_altar_per_map\n",
    "probability_to_get_divine_minion_choice_from_a_map = 1 - probability_to_not_get_divine_minion_choice_from_a_map\n",
    "print('The probability to get a divine minion choice from a map is:', prob(probability_to_get_divine_minion_choice_from_a_map))"
   ]
  },
  {
   "cell_type": "code",
   "execution_count": 15,
   "metadata": {},
   "outputs": [
    {
     "name": "stdout",
     "output_type": "stream",
     "text": [
      "The probability to get a divine minion choice from 400 maps is: 0.4134233254162186 ≈ 41.34% ≈ 1 / 2\n",
      "The probability to get a divine minion choice from 520 maps is: 0.5001701073140841 ≈ 50.02% ≈ 1 / 2\n",
      "The probability to get a divine minion choice from 750 maps is: 0.6322023249579383 ≈ 63.22% ≈ 1 / 2\n",
      "The probability to get a divine minion choice from 1000 maps is: 0.7364809763128211 ≈ 73.65% ≈ 1 / 1\n",
      "The probability to get a divine minion choice from 2000 maps is: 0.9305577241549561 ≈ 93.06% ≈ 1 / 1\n",
      "The probability to get a divine minion choice from 5000 maps is: 0.9987292507441701 ≈ 99.87% ≈ 1 / 1\n",
      "The probability to get a divine minion choice from 10000 maps is: 0.9999983851963288 ≈ 100.0% ≈ 1 / 1\n"
     ]
    }
   ],
   "source": [
    "def prob_from_n_maps(n):\n",
    "    print('The probability to get a divine minion choice from', n, 'maps is:', prob(1 - probability_to_not_get_divine_minion_choice_from_a_map ** n))\n",
    "\n",
    "for n in [400, 520, 750, 1000, 2000, 5000, 10000]:\n",
    "    prob_from_n_maps(n)"
   ]
  },
  {
   "cell_type": "code",
   "execution_count": 7,
   "metadata": {},
   "outputs": [
    {
     "name": "stdout",
     "output_type": "stream",
     "text": [
      "You would average 0.007996444971193784 divine per map\n",
      "You would average 0.7996444971193784 divine per 100 maps\n",
      "You would average 1.3194134202469743 chaos per map\n"
     ]
    }
   ],
   "source": [
    "divine_per_map = probability_to_get_divine_minion_choice_from_a_map * divine_per_choice\n",
    "print('You would average', divine_per_map, 'divine per map')\n",
    "divine_per_100_map = 100 * probability_to_get_divine_minion_choice_from_a_map * divine_per_choice\n",
    "print('You would average', divine_per_100_map, 'divine per 100 maps')\n",
    "chaos_per_map = probability_to_get_divine_minion_choice_from_a_map * divine_per_choice * divine_price_in_chaos\n",
    "print('You would average', chaos_per_map, 'chaos per map')"
   ]
  },
  {
   "cell_type": "markdown",
   "metadata": {},
   "source": [
    "## Conclusion and limitations\n",
    "1.3 chaos per map is irrelevant to end game mapping strategies. This mod only interest is to make jaw dropping videos for the community to enjoy.\n",
    "\n",
    "Grimro was quite off in his final number of 1.5 divine per 100 maps, in reality with his own numbers it only a bit over half that. However his conclusion is on point. This mod is not a reliable way to make money.\n",
    "\n",
    "This computation does not account for divines from boss. You can roughly multiply the average chaos per maps by 2 but IMO it does not change much.\n",
    "\n",
    "The amount of exalts you would get per map is similar to the number of divine. Considering the price of an exalted, it is negligeable."
   ]
  },
  {
   "cell_type": "markdown",
   "metadata": {},
   "source": []
  }
 ],
 "metadata": {
  "kernelspec": {
   "display_name": "Python 3.9.10 64-bit",
   "language": "python",
   "name": "python3"
  },
  "language_info": {
   "codemirror_mode": {
    "name": "ipython",
    "version": 3
   },
   "file_extension": ".py",
   "mimetype": "text/x-python",
   "name": "python",
   "nbconvert_exporter": "python",
   "pygments_lexer": "ipython3",
   "version": "3.9.10"
  },
  "orig_nbformat": 4,
  "vscode": {
   "interpreter": {
    "hash": "98c93a84b968a6d82459a004d0fb270aeeef3c4c7d25d474ad603f68d51ffcf7"
   }
  }
 },
 "nbformat": 4,
 "nbformat_minor": 2
}
