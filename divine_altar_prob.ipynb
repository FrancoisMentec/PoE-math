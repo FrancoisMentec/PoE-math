{
 "cells": [
  {
   "cell_type": "markdown",
   "metadata": {},
   "source": [
    "# Chance to get divine orb drop on eldritch minions\n"
   ]
  },
  {
   "cell_type": "code",
   "execution_count": 12,
   "metadata": {},
   "outputs": [],
   "source": [
    "def prob(value):\n",
    "    return str(value) + ' ≈ ' + str(round(value * 10000) / 100) + '% ≈ 1 / ' + str(round(1 / value))"
   ]
  },
  {
   "cell_type": "code",
   "execution_count": 13,
   "metadata": {},
   "outputs": [
    {
     "name": "stdout",
     "output_type": "stream",
     "text": [
      "The probability to get a minion choice from an altar is: 0.5555555555555555 ≈ 55.56% ≈ 1 / 2\n",
      "The probability to get a divine minion choice from an altar is: 0.0004444444444444444 ≈ 0.04% ≈ 1 / 2250\n",
      "The probability to get a divine minion choice from a map is: 0.0013327408285322973 ≈ 0.13% ≈ 1 / 750\n"
     ]
    }
   ],
   "source": [
    "probability_to_get_divine_from_minion_choice = 0.0008 # 0.08%\n",
    "number_of_choice_per_altar = 2 # top choice, bottom choice\n",
    "types_of_choice = 3 # Boss, Minions, Player\n",
    "number_of_altar_per_map = 3 # hypothetical\n",
    "\n",
    "probability_for_a_choice_to_not_be_a_minion_choice = 1 - 1 / types_of_choice\n",
    "probability_to_not_get_a_minion_choice_from_an_altar = probability_for_a_choice_to_not_be_a_minion_choice ** number_of_choice_per_altar\n",
    "probability_to_get_minion_choice_from_an_altar = 1 - probability_to_not_get_a_minion_choice_from_an_altar\n",
    "print('The probability to get a minion choice from an altar is:', prob(probability_to_get_minion_choice_from_an_altar))\n",
    "\n",
    "probability_to_get_divine_from_minion_choice_from_an_altar = probability_to_get_minion_choice_from_an_altar * probability_to_get_divine_from_minion_choice\n",
    "print('The probability to get a divine minion choice from an altar is:', prob(probability_to_get_divine_from_minion_choice_from_an_altar))\n",
    "\n",
    "probability_to_not_get_divine_from_minion_choice_from_an_altar = 1 - probability_to_get_divine_from_minion_choice_from_an_altar\n",
    "probability_to_not_get_divine_minion_choice_from_a_map = probability_to_not_get_divine_from_minion_choice_from_an_altar ** number_of_altar_per_map\n",
    "probability_to_get_divine_minion_choice_from_a_map = 1 - probability_to_not_get_divine_minion_choice_from_a_map\n",
    "print('The probability to get a divine minion choice from a map is:', prob(probability_to_get_divine_minion_choice_from_a_map))"
   ]
  },
  {
   "cell_type": "code",
   "execution_count": 18,
   "metadata": {},
   "outputs": [
    {
     "name": "stdout",
     "output_type": "stream",
     "text": [
      "The probability to get a divine minion choice from 400 maps is: 0.4134233254162186 ≈ 41.34% ≈ 1 / 2\n",
      "The probability to get a divine minion choice from 750 maps is: 0.6322023249579383 ≈ 63.22% ≈ 1 / 2\n",
      "The probability to get a divine minion choice from 1000 maps is: 0.7364809763128211 ≈ 73.65% ≈ 1 / 1\n",
      "The probability to get a divine minion choice from 2000 maps is: 0.9305577241549561 ≈ 93.06% ≈ 1 / 1\n",
      "The probability to get a divine minion choice from 5000 maps is: 0.9987292507441701 ≈ 99.87% ≈ 1 / 1\n",
      "The probability to get a divine minion choice from 10000 maps is: 0.9999983851963288 ≈ 100.0% ≈ 1 / 1\n"
     ]
    }
   ],
   "source": [
    "def prob_from_n_maps(n):\n",
    "    print('The probability to get a divine minion choice from', n, 'maps is:', prob(1 - probability_to_not_get_divine_minion_choice_from_a_map ** n))\n",
    "\n",
    "for n in [400, 750, 1000, 2000, 5000, 10000]:\n",
    "    prob_from_n_maps(n)"
   ]
  },
  {
   "cell_type": "code",
   "execution_count": null,
   "metadata": {},
   "outputs": [],
   "source": []
  }
 ],
 "metadata": {
  "kernelspec": {
   "display_name": "Python 3.9.10 64-bit",
   "language": "python",
   "name": "python3"
  },
  "language_info": {
   "codemirror_mode": {
    "name": "ipython",
    "version": 3
   },
   "file_extension": ".py",
   "mimetype": "text/x-python",
   "name": "python",
   "nbconvert_exporter": "python",
   "pygments_lexer": "ipython3",
   "version": "3.9.10"
  },
  "orig_nbformat": 4,
  "vscode": {
   "interpreter": {
    "hash": "98c93a84b968a6d82459a004d0fb270aeeef3c4c7d25d474ad603f68d51ffcf7"
   }
  }
 },
 "nbformat": 4,
 "nbformat_minor": 2
}
